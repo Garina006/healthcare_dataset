{
 "cells": [
  {
   "cell_type": "markdown",
   "id": "d1f7e731-03f5-482c-8c05-247b80d8935f",
   "metadata": {},
   "source": [
    "## Dataset Information:\n",
    "Each column provides specific information about the patient, their admission, and the healthcare services provided, making this dataset suitable for various data analysis and modeling tasks in the healthcare domain. Here's a brief explanation of each column in the dataset  \n",
    "\n",
    "Name: This column represents the name of the patient associated with the healthcare record.  \n",
    "Age: The age of the patient at the time of admission, expressed in years.  \n",
    "Gender: Indicates the gender of the patient, either \"Male\" or \"Female.\"  \n",
    "Blood Type: The patient's blood type, which can be one of the common blood types (e.g., \"A+\", \"O-\", etc.).  \n",
    "Medical Condition: This column specifies the primary medical condition or diagnosis associated with the patient, such as \"Diabetes,\" \"Hypertension,\" \"Asthma,\" and more.  \n",
    "Date of Admission: The date on which the patient was admitted to the healthcare facility.  \n",
    "Doctor: The name of the doctor responsible for the patient's care during their admission.  \n",
    "Hospital: Identifies the healthcare facility or hospital where the patient was admitted.  \n",
    "Insurance Provider: This column indicates the patient's insurance provider, which can be one of several options, including \"Aetna,\" \"Blue Cross,\" \"Cigna,\" \"UnitedHealthcare,\" and \"Medicare.\"  \n",
    "Billing Amount: The amount of money billed for the patient's healthcare services during their admission. This is expressed as a floating-point number.  \n",
    "Room Number: The room number where the patient was accommodated during their admission.  \n",
    "Admission Type: Specifies the type of admission, which can be \"Emergency,\" \"Elective,\" or \"Urgent,\" reflecting the circumstances of the admission.  \n",
    "Discharge Date: The date on which the patient was discharged from the healthcare facility, based on the admission date and a random number of days within a realistic range.  \n",
    "Medication: Identifies a medication prescribed or administered to the patient during their admission. Examples include \"Aspirin,\" \"Ibuprofen,\" \"Penicillin,\" \"Paracetamol,\" and \"Lipitor.\"  \n",
    "Test Results: Describes the results of a medical test conducted during the patient's admission. Possible values include \"Normal,\" \"Abnormal,\" or \"Inconclusive,\" indicating the outcome of the test.  \n",
    "\n",
    "The dataset covers the period from 2019-05-08 to 2024-06-06"
   ]
  },
  {
   "cell_type": "markdown",
   "id": "489b35e9-f2f7-422d-92b5-dc3548338538",
   "metadata": {},
   "source": [
    "## Import libraries"
   ]
  },
  {
   "cell_type": "code",
   "execution_count": 1,
   "id": "c5533b32-dc71-4750-8f9b-5f932ebed454",
   "metadata": {},
   "outputs": [],
   "source": [
    "import numpy as np\n",
    "import pandas as pd"
   ]
  },
  {
   "cell_type": "markdown",
   "id": "2d959b0b-b8a3-4e03-b355-cbaf84ca00be",
   "metadata": {},
   "source": [
    "## Read the data from the CSV file"
   ]
  },
  {
   "cell_type": "code",
   "execution_count": 2,
   "id": "d2f66e89-04fd-43e1-8a9d-f955b0a9ac83",
   "metadata": {},
   "outputs": [],
   "source": [
    "df = pd.read_csv('data/healthcare_dataset.csv')"
   ]
  },
  {
   "cell_type": "code",
   "execution_count": 3,
   "id": "304b0246-03a9-42ea-b3a6-4179f7dd2614",
   "metadata": {},
   "outputs": [
    {
     "data": {
      "text/html": [
       "<div>\n",
       "<style scoped>\n",
       "    .dataframe tbody tr th:only-of-type {\n",
       "        vertical-align: middle;\n",
       "    }\n",
       "\n",
       "    .dataframe tbody tr th {\n",
       "        vertical-align: top;\n",
       "    }\n",
       "\n",
       "    .dataframe thead th {\n",
       "        text-align: right;\n",
       "    }\n",
       "</style>\n",
       "<table border=\"1\" class=\"dataframe\">\n",
       "  <thead>\n",
       "    <tr style=\"text-align: right;\">\n",
       "      <th></th>\n",
       "      <th>Name</th>\n",
       "      <th>Age</th>\n",
       "      <th>Gender</th>\n",
       "      <th>Blood Type</th>\n",
       "      <th>Medical Condition</th>\n",
       "      <th>Date of Admission</th>\n",
       "      <th>Doctor</th>\n",
       "      <th>Hospital</th>\n",
       "      <th>Insurance Provider</th>\n",
       "      <th>Billing Amount</th>\n",
       "      <th>Room Number</th>\n",
       "      <th>Admission Type</th>\n",
       "      <th>Discharge Date</th>\n",
       "      <th>Medication</th>\n",
       "      <th>Test Results</th>\n",
       "    </tr>\n",
       "  </thead>\n",
       "  <tbody>\n",
       "    <tr>\n",
       "      <th>0</th>\n",
       "      <td>Bobby JacksOn</td>\n",
       "      <td>30</td>\n",
       "      <td>Male</td>\n",
       "      <td>B-</td>\n",
       "      <td>Cancer</td>\n",
       "      <td>2024-01-31</td>\n",
       "      <td>Matthew Smith</td>\n",
       "      <td>Sons and Miller</td>\n",
       "      <td>Blue Cross</td>\n",
       "      <td>18856.281306</td>\n",
       "      <td>328</td>\n",
       "      <td>Urgent</td>\n",
       "      <td>2024-02-02</td>\n",
       "      <td>Paracetamol</td>\n",
       "      <td>Normal</td>\n",
       "    </tr>\n",
       "    <tr>\n",
       "      <th>1</th>\n",
       "      <td>LesLie TErRy</td>\n",
       "      <td>62</td>\n",
       "      <td>Male</td>\n",
       "      <td>A+</td>\n",
       "      <td>Obesity</td>\n",
       "      <td>2019-08-20</td>\n",
       "      <td>Samantha Davies</td>\n",
       "      <td>Kim Inc</td>\n",
       "      <td>Medicare</td>\n",
       "      <td>33643.327287</td>\n",
       "      <td>265</td>\n",
       "      <td>Emergency</td>\n",
       "      <td>2019-08-26</td>\n",
       "      <td>Ibuprofen</td>\n",
       "      <td>Inconclusive</td>\n",
       "    </tr>\n",
       "    <tr>\n",
       "      <th>2</th>\n",
       "      <td>DaNnY sMitH</td>\n",
       "      <td>76</td>\n",
       "      <td>Female</td>\n",
       "      <td>A-</td>\n",
       "      <td>Obesity</td>\n",
       "      <td>2022-09-22</td>\n",
       "      <td>Tiffany Mitchell</td>\n",
       "      <td>Cook PLC</td>\n",
       "      <td>Aetna</td>\n",
       "      <td>27955.096079</td>\n",
       "      <td>205</td>\n",
       "      <td>Emergency</td>\n",
       "      <td>2022-10-07</td>\n",
       "      <td>Aspirin</td>\n",
       "      <td>Normal</td>\n",
       "    </tr>\n",
       "    <tr>\n",
       "      <th>3</th>\n",
       "      <td>andrEw waTtS</td>\n",
       "      <td>28</td>\n",
       "      <td>Female</td>\n",
       "      <td>O+</td>\n",
       "      <td>Diabetes</td>\n",
       "      <td>2020-11-18</td>\n",
       "      <td>Kevin Wells</td>\n",
       "      <td>Hernandez Rogers and Vang,</td>\n",
       "      <td>Medicare</td>\n",
       "      <td>37909.782410</td>\n",
       "      <td>450</td>\n",
       "      <td>Elective</td>\n",
       "      <td>2020-12-18</td>\n",
       "      <td>Ibuprofen</td>\n",
       "      <td>Abnormal</td>\n",
       "    </tr>\n",
       "    <tr>\n",
       "      <th>4</th>\n",
       "      <td>adrIENNE bEll</td>\n",
       "      <td>43</td>\n",
       "      <td>Female</td>\n",
       "      <td>AB+</td>\n",
       "      <td>Cancer</td>\n",
       "      <td>2022-09-19</td>\n",
       "      <td>Kathleen Hanna</td>\n",
       "      <td>White-White</td>\n",
       "      <td>Aetna</td>\n",
       "      <td>14238.317814</td>\n",
       "      <td>458</td>\n",
       "      <td>Urgent</td>\n",
       "      <td>2022-10-09</td>\n",
       "      <td>Penicillin</td>\n",
       "      <td>Abnormal</td>\n",
       "    </tr>\n",
       "  </tbody>\n",
       "</table>\n",
       "</div>"
      ],
      "text/plain": [
       "            Name  Age  Gender Blood Type Medical Condition Date of Admission  \\\n",
       "0  Bobby JacksOn   30    Male         B-            Cancer        2024-01-31   \n",
       "1   LesLie TErRy   62    Male         A+           Obesity        2019-08-20   \n",
       "2    DaNnY sMitH   76  Female         A-           Obesity        2022-09-22   \n",
       "3   andrEw waTtS   28  Female         O+          Diabetes        2020-11-18   \n",
       "4  adrIENNE bEll   43  Female        AB+            Cancer        2022-09-19   \n",
       "\n",
       "             Doctor                    Hospital Insurance Provider  \\\n",
       "0     Matthew Smith             Sons and Miller         Blue Cross   \n",
       "1   Samantha Davies                     Kim Inc           Medicare   \n",
       "2  Tiffany Mitchell                    Cook PLC              Aetna   \n",
       "3       Kevin Wells  Hernandez Rogers and Vang,           Medicare   \n",
       "4    Kathleen Hanna                 White-White              Aetna   \n",
       "\n",
       "   Billing Amount  Room Number Admission Type Discharge Date   Medication  \\\n",
       "0    18856.281306          328         Urgent     2024-02-02  Paracetamol   \n",
       "1    33643.327287          265      Emergency     2019-08-26    Ibuprofen   \n",
       "2    27955.096079          205      Emergency     2022-10-07      Aspirin   \n",
       "3    37909.782410          450       Elective     2020-12-18    Ibuprofen   \n",
       "4    14238.317814          458         Urgent     2022-10-09   Penicillin   \n",
       "\n",
       "   Test Results  \n",
       "0        Normal  \n",
       "1  Inconclusive  \n",
       "2        Normal  \n",
       "3      Abnormal  \n",
       "4      Abnormal  "
      ]
     },
     "execution_count": 3,
     "metadata": {},
     "output_type": "execute_result"
    }
   ],
   "source": [
    "df.head(5)"
   ]
  },
  {
   "cell_type": "code",
   "execution_count": 4,
   "id": "c3f9fa59-1d98-46bb-a12e-4875f3291454",
   "metadata": {},
   "outputs": [
    {
     "data": {
      "text/plain": [
       "(55500, 15)"
      ]
     },
     "execution_count": 4,
     "metadata": {},
     "output_type": "execute_result"
    }
   ],
   "source": [
    "df.shape"
   ]
  },
  {
   "cell_type": "markdown",
   "id": "281a6e86-e086-4389-9005-0376e76e609b",
   "metadata": {},
   "source": [
    "### The dataset has 55500 rows and 15 columns"
   ]
  },
  {
   "cell_type": "code",
   "execution_count": 5,
   "id": "590ff79b-4df4-4962-88bc-d4a2bdc7236b",
   "metadata": {},
   "outputs": [
    {
     "data": {
      "text/plain": [
       "Name                   object\n",
       "Age                     int64\n",
       "Gender                 object\n",
       "Blood Type             object\n",
       "Medical Condition      object\n",
       "Date of Admission      object\n",
       "Doctor                 object\n",
       "Hospital               object\n",
       "Insurance Provider     object\n",
       "Billing Amount        float64\n",
       "Room Number             int64\n",
       "Admission Type         object\n",
       "Discharge Date         object\n",
       "Medication             object\n",
       "Test Results           object\n",
       "dtype: object"
      ]
     },
     "execution_count": 5,
     "metadata": {},
     "output_type": "execute_result"
    }
   ],
   "source": [
    "df.dtypes"
   ]
  },
  {
   "cell_type": "markdown",
   "id": "86e055bb-4a1c-4987-a7fb-a39cbfaaf24c",
   "metadata": {},
   "source": [
    "### Some columns need to change the data type (Date of Admission and Discharge Date to datetime type)"
   ]
  },
  {
   "cell_type": "code",
   "execution_count": 6,
   "id": "a26bef06-006b-4260-8540-5e47175dc0e3",
   "metadata": {},
   "outputs": [
    {
     "data": {
      "text/plain": [
       "Name                  False\n",
       "Age                   False\n",
       "Gender                False\n",
       "Blood Type            False\n",
       "Medical Condition     False\n",
       "Date of Admission     False\n",
       "Doctor                False\n",
       "Hospital              False\n",
       "Insurance Provider    False\n",
       "Billing Amount        False\n",
       "Room Number           False\n",
       "Admission Type        False\n",
       "Discharge Date        False\n",
       "Medication            False\n",
       "Test Results          False\n",
       "dtype: bool"
      ]
     },
     "execution_count": 6,
     "metadata": {},
     "output_type": "execute_result"
    }
   ],
   "source": [
    "df.isna().any()"
   ]
  },
  {
   "cell_type": "markdown",
   "id": "1d0773eb-6f49-4e36-bdc7-ac82ac1e13be",
   "metadata": {},
   "source": [
    "### The dataset does not contain missing data"
   ]
  },
  {
   "cell_type": "markdown",
   "id": "342f9cc1-7f27-4bf0-bc04-bb980a710202",
   "metadata": {},
   "source": [
    "## Changing data type for Date of Admission and Discharge Date columns"
   ]
  },
  {
   "cell_type": "code",
   "execution_count": 7,
   "id": "18383648-4e74-4bb6-9226-5e1c262d9807",
   "metadata": {},
   "outputs": [],
   "source": [
    "for col in df.columns:\n",
    "    if 'date' in col.lower():\n",
    "        df[col] = pd.to_datetime(df[col])\n"
   ]
  },
  {
   "cell_type": "markdown",
   "id": "bdc4143e-968b-4b30-bec2-bed5e2adede5",
   "metadata": {},
   "source": [
    "## Bring the names of patients to a unified form"
   ]
  },
  {
   "cell_type": "code",
   "execution_count": 8,
   "id": "6fd9fa64-163e-48b0-ac6c-2a8f6f45ad86",
   "metadata": {},
   "outputs": [],
   "source": [
    "df['Name'] = df['Name'].str.title()"
   ]
  },
  {
   "cell_type": "code",
   "execution_count": 9,
   "id": "9d706444-535f-44db-ae1f-862a10004c24",
   "metadata": {},
   "outputs": [
    {
     "data": {
      "text/html": [
       "<div>\n",
       "<style scoped>\n",
       "    .dataframe tbody tr th:only-of-type {\n",
       "        vertical-align: middle;\n",
       "    }\n",
       "\n",
       "    .dataframe tbody tr th {\n",
       "        vertical-align: top;\n",
       "    }\n",
       "\n",
       "    .dataframe thead th {\n",
       "        text-align: right;\n",
       "    }\n",
       "</style>\n",
       "<table border=\"1\" class=\"dataframe\">\n",
       "  <thead>\n",
       "    <tr style=\"text-align: right;\">\n",
       "      <th></th>\n",
       "      <th>Name</th>\n",
       "      <th>Age</th>\n",
       "      <th>Gender</th>\n",
       "      <th>Blood Type</th>\n",
       "      <th>Medical Condition</th>\n",
       "      <th>Date of Admission</th>\n",
       "      <th>Doctor</th>\n",
       "      <th>Hospital</th>\n",
       "      <th>Insurance Provider</th>\n",
       "      <th>Billing Amount</th>\n",
       "      <th>Room Number</th>\n",
       "      <th>Admission Type</th>\n",
       "      <th>Discharge Date</th>\n",
       "      <th>Medication</th>\n",
       "      <th>Test Results</th>\n",
       "    </tr>\n",
       "  </thead>\n",
       "  <tbody>\n",
       "    <tr>\n",
       "      <th>0</th>\n",
       "      <td>Bobby Jackson</td>\n",
       "      <td>30</td>\n",
       "      <td>Male</td>\n",
       "      <td>B-</td>\n",
       "      <td>Cancer</td>\n",
       "      <td>2024-01-31</td>\n",
       "      <td>Matthew Smith</td>\n",
       "      <td>Sons and Miller</td>\n",
       "      <td>Blue Cross</td>\n",
       "      <td>18856.281306</td>\n",
       "      <td>328</td>\n",
       "      <td>Urgent</td>\n",
       "      <td>2024-02-02</td>\n",
       "      <td>Paracetamol</td>\n",
       "      <td>Normal</td>\n",
       "    </tr>\n",
       "    <tr>\n",
       "      <th>1</th>\n",
       "      <td>Leslie Terry</td>\n",
       "      <td>62</td>\n",
       "      <td>Male</td>\n",
       "      <td>A+</td>\n",
       "      <td>Obesity</td>\n",
       "      <td>2019-08-20</td>\n",
       "      <td>Samantha Davies</td>\n",
       "      <td>Kim Inc</td>\n",
       "      <td>Medicare</td>\n",
       "      <td>33643.327287</td>\n",
       "      <td>265</td>\n",
       "      <td>Emergency</td>\n",
       "      <td>2019-08-26</td>\n",
       "      <td>Ibuprofen</td>\n",
       "      <td>Inconclusive</td>\n",
       "    </tr>\n",
       "    <tr>\n",
       "      <th>2</th>\n",
       "      <td>Danny Smith</td>\n",
       "      <td>76</td>\n",
       "      <td>Female</td>\n",
       "      <td>A-</td>\n",
       "      <td>Obesity</td>\n",
       "      <td>2022-09-22</td>\n",
       "      <td>Tiffany Mitchell</td>\n",
       "      <td>Cook PLC</td>\n",
       "      <td>Aetna</td>\n",
       "      <td>27955.096079</td>\n",
       "      <td>205</td>\n",
       "      <td>Emergency</td>\n",
       "      <td>2022-10-07</td>\n",
       "      <td>Aspirin</td>\n",
       "      <td>Normal</td>\n",
       "    </tr>\n",
       "  </tbody>\n",
       "</table>\n",
       "</div>"
      ],
      "text/plain": [
       "            Name  Age  Gender Blood Type Medical Condition Date of Admission  \\\n",
       "0  Bobby Jackson   30    Male         B-            Cancer        2024-01-31   \n",
       "1   Leslie Terry   62    Male         A+           Obesity        2019-08-20   \n",
       "2    Danny Smith   76  Female         A-           Obesity        2022-09-22   \n",
       "\n",
       "             Doctor         Hospital Insurance Provider  Billing Amount  \\\n",
       "0     Matthew Smith  Sons and Miller         Blue Cross    18856.281306   \n",
       "1   Samantha Davies          Kim Inc           Medicare    33643.327287   \n",
       "2  Tiffany Mitchell         Cook PLC              Aetna    27955.096079   \n",
       "\n",
       "   Room Number Admission Type Discharge Date   Medication  Test Results  \n",
       "0          328         Urgent     2024-02-02  Paracetamol        Normal  \n",
       "1          265      Emergency     2019-08-26    Ibuprofen  Inconclusive  \n",
       "2          205      Emergency     2022-10-07      Aspirin        Normal  "
      ]
     },
     "execution_count": 9,
     "metadata": {},
     "output_type": "execute_result"
    }
   ],
   "source": [
    "df.head(3)"
   ]
  },
  {
   "cell_type": "markdown",
   "id": "ae13ec2a-f5ab-4d20-bc4a-9fca8e880033",
   "metadata": {},
   "source": [
    "## Duplicates checking"
   ]
  },
  {
   "cell_type": "code",
   "execution_count": 10,
   "id": "2810f7dc-c906-4c88-b4be-c6c448f25043",
   "metadata": {},
   "outputs": [
    {
     "data": {
      "text/plain": [
       "False    54966\n",
       "True       534\n",
       "Name: count, dtype: int64"
      ]
     },
     "execution_count": 10,
     "metadata": {},
     "output_type": "execute_result"
    }
   ],
   "source": [
    "df.duplicated().value_counts()"
   ]
  },
  {
   "cell_type": "markdown",
   "id": "6c3ecb80-8258-4594-878d-dbe82984b431",
   "metadata": {},
   "source": [
    "### The dataset has 534 duplicates that should be removed before further analysis"
   ]
  },
  {
   "cell_type": "markdown",
   "id": "81444447-08a6-4f84-8d41-651062af3526",
   "metadata": {},
   "source": [
    "## Description of columns with numerical values"
   ]
  },
  {
   "cell_type": "code",
   "execution_count": 11,
   "id": "62cc2174-6c7a-4953-bbc1-b03df83fa87e",
   "metadata": {},
   "outputs": [
    {
     "data": {
      "text/plain": [
       "count    55500.000000\n",
       "mean     25539.316097\n",
       "std      14211.454431\n",
       "min      -2008.492140\n",
       "25%      13241.224652\n",
       "50%      25538.069376\n",
       "75%      37820.508436\n",
       "max      52764.276736\n",
       "Name: Billing Amount, dtype: float64"
      ]
     },
     "execution_count": 11,
     "metadata": {},
     "output_type": "execute_result"
    }
   ],
   "source": [
    "df['Billing Amount'].describe()"
   ]
  },
  {
   "cell_type": "markdown",
   "id": "d0a4ed3b-b80c-4719-a012-bfcb377beb78",
   "metadata": {},
   "source": [
    "## The largest amount for treatment is 52764 dollars, the smallest amount is -2008 dollars.  \n",
    "## Average check: 25,539 dollars.  \n",
    "\n",
    "Since we have negative values, we have to check the origin of such values ​​- is this the norm (return of the part reimbursed by the insurance company), or is it an error in entering data into the database.\n",
    "To do this, we will sort the data exclusively with negative dates of payment for treatment, and then we will check randomly on an individual patient whether there is only one record or on the same dates, with the same diagnosis, but with a positive value of the amount to be paid."
   ]
  },
  {
   "cell_type": "code",
   "execution_count": 12,
   "id": "269f01d0-2380-4b19-8fbd-6690501141b0",
   "metadata": {},
   "outputs": [
    {
     "data": {
      "text/html": [
       "<div>\n",
       "<style scoped>\n",
       "    .dataframe tbody tr th:only-of-type {\n",
       "        vertical-align: middle;\n",
       "    }\n",
       "\n",
       "    .dataframe tbody tr th {\n",
       "        vertical-align: top;\n",
       "    }\n",
       "\n",
       "    .dataframe thead th {\n",
       "        text-align: right;\n",
       "    }\n",
       "</style>\n",
       "<table border=\"1\" class=\"dataframe\">\n",
       "  <thead>\n",
       "    <tr style=\"text-align: right;\">\n",
       "      <th></th>\n",
       "      <th>Name</th>\n",
       "      <th>Age</th>\n",
       "      <th>Gender</th>\n",
       "      <th>Blood Type</th>\n",
       "      <th>Medical Condition</th>\n",
       "      <th>Date of Admission</th>\n",
       "      <th>Doctor</th>\n",
       "      <th>Hospital</th>\n",
       "      <th>Insurance Provider</th>\n",
       "      <th>Billing Amount</th>\n",
       "      <th>Room Number</th>\n",
       "      <th>Admission Type</th>\n",
       "      <th>Discharge Date</th>\n",
       "      <th>Medication</th>\n",
       "      <th>Test Results</th>\n",
       "    </tr>\n",
       "  </thead>\n",
       "  <tbody>\n",
       "    <tr>\n",
       "      <th>48994</th>\n",
       "      <td>Aaron Flowers</td>\n",
       "      <td>42</td>\n",
       "      <td>Male</td>\n",
       "      <td>A+</td>\n",
       "      <td>Asthma</td>\n",
       "      <td>2020-06-03</td>\n",
       "      <td>Ronald Patton</td>\n",
       "      <td>Brown, Santos and Howard</td>\n",
       "      <td>Medicare</td>\n",
       "      <td>-378.696411</td>\n",
       "      <td>115</td>\n",
       "      <td>Elective</td>\n",
       "      <td>2020-06-17</td>\n",
       "      <td>Paracetamol</td>\n",
       "      <td>Inconclusive</td>\n",
       "    </tr>\n",
       "    <tr>\n",
       "      <th>8757</th>\n",
       "      <td>Alan Scott</td>\n",
       "      <td>48</td>\n",
       "      <td>Female</td>\n",
       "      <td>A-</td>\n",
       "      <td>Asthma</td>\n",
       "      <td>2019-10-23</td>\n",
       "      <td>Jacob Kirby</td>\n",
       "      <td>Lopez-Hughes</td>\n",
       "      <td>Medicare</td>\n",
       "      <td>-857.125933</td>\n",
       "      <td>309</td>\n",
       "      <td>Urgent</td>\n",
       "      <td>2019-11-18</td>\n",
       "      <td>Paracetamol</td>\n",
       "      <td>Abnormal</td>\n",
       "    </tr>\n",
       "    <tr>\n",
       "      <th>6798</th>\n",
       "      <td>Alexander Gardner</td>\n",
       "      <td>45</td>\n",
       "      <td>Male</td>\n",
       "      <td>AB-</td>\n",
       "      <td>Cancer</td>\n",
       "      <td>2023-03-23</td>\n",
       "      <td>Tracy Brown</td>\n",
       "      <td>Maldonado Group</td>\n",
       "      <td>Cigna</td>\n",
       "      <td>-198.283806</td>\n",
       "      <td>329</td>\n",
       "      <td>Elective</td>\n",
       "      <td>2023-04-09</td>\n",
       "      <td>Aspirin</td>\n",
       "      <td>Abnormal</td>\n",
       "    </tr>\n",
       "    <tr>\n",
       "      <th>34304</th>\n",
       "      <td>Alexander Martin</td>\n",
       "      <td>46</td>\n",
       "      <td>Male</td>\n",
       "      <td>A+</td>\n",
       "      <td>Hypertension</td>\n",
       "      <td>2021-09-24</td>\n",
       "      <td>Tracy Smith</td>\n",
       "      <td>Carter, and Nguyen Snow</td>\n",
       "      <td>UnitedHealthcare</td>\n",
       "      <td>-38.966152</td>\n",
       "      <td>401</td>\n",
       "      <td>Emergency</td>\n",
       "      <td>2021-09-26</td>\n",
       "      <td>Lipitor</td>\n",
       "      <td>Inconclusive</td>\n",
       "    </tr>\n",
       "    <tr>\n",
       "      <th>5445</th>\n",
       "      <td>Alexandra Khan</td>\n",
       "      <td>32</td>\n",
       "      <td>Male</td>\n",
       "      <td>AB+</td>\n",
       "      <td>Arthritis</td>\n",
       "      <td>2022-07-14</td>\n",
       "      <td>Michael Vaughn</td>\n",
       "      <td>Bowen Lopez, and Terry</td>\n",
       "      <td>Aetna</td>\n",
       "      <td>-692.408820</td>\n",
       "      <td>372</td>\n",
       "      <td>Elective</td>\n",
       "      <td>2022-07-19</td>\n",
       "      <td>Lipitor</td>\n",
       "      <td>Abnormal</td>\n",
       "    </tr>\n",
       "    <tr>\n",
       "      <th>43101</th>\n",
       "      <td>Amanda Morgan</td>\n",
       "      <td>35</td>\n",
       "      <td>Female</td>\n",
       "      <td>AB+</td>\n",
       "      <td>Hypertension</td>\n",
       "      <td>2020-09-27</td>\n",
       "      <td>Gregory Figueroa</td>\n",
       "      <td>Petersen-Hernandez</td>\n",
       "      <td>Medicare</td>\n",
       "      <td>-652.181369</td>\n",
       "      <td>144</td>\n",
       "      <td>Elective</td>\n",
       "      <td>2020-10-20</td>\n",
       "      <td>Penicillin</td>\n",
       "      <td>Abnormal</td>\n",
       "    </tr>\n",
       "    <tr>\n",
       "      <th>6961</th>\n",
       "      <td>Angela Allen</td>\n",
       "      <td>83</td>\n",
       "      <td>Female</td>\n",
       "      <td>B-</td>\n",
       "      <td>Diabetes</td>\n",
       "      <td>2019-08-21</td>\n",
       "      <td>Robert Kennedy</td>\n",
       "      <td>Brown and Randolph, Young</td>\n",
       "      <td>Cigna</td>\n",
       "      <td>-43.098522</td>\n",
       "      <td>189</td>\n",
       "      <td>Urgent</td>\n",
       "      <td>2019-08-24</td>\n",
       "      <td>Penicillin</td>\n",
       "      <td>Abnormal</td>\n",
       "    </tr>\n",
       "    <tr>\n",
       "      <th>17642</th>\n",
       "      <td>Anthony Miller</td>\n",
       "      <td>50</td>\n",
       "      <td>Female</td>\n",
       "      <td>O+</td>\n",
       "      <td>Arthritis</td>\n",
       "      <td>2020-01-17</td>\n",
       "      <td>Jill Raymond</td>\n",
       "      <td>Pitts, Hernandez and Wilson</td>\n",
       "      <td>Cigna</td>\n",
       "      <td>-892.270140</td>\n",
       "      <td>359</td>\n",
       "      <td>Emergency</td>\n",
       "      <td>2020-01-31</td>\n",
       "      <td>Aspirin</td>\n",
       "      <td>Abnormal</td>\n",
       "    </tr>\n",
       "    <tr>\n",
       "      <th>132</th>\n",
       "      <td>Ashley Erickson</td>\n",
       "      <td>32</td>\n",
       "      <td>Female</td>\n",
       "      <td>AB-</td>\n",
       "      <td>Cancer</td>\n",
       "      <td>2019-11-05</td>\n",
       "      <td>Gerald Hooper</td>\n",
       "      <td>and Johnson Moore, Branch</td>\n",
       "      <td>Aetna</td>\n",
       "      <td>-502.507813</td>\n",
       "      <td>376</td>\n",
       "      <td>Urgent</td>\n",
       "      <td>2019-11-23</td>\n",
       "      <td>Penicillin</td>\n",
       "      <td>Normal</td>\n",
       "    </tr>\n",
       "    <tr>\n",
       "      <th>15542</th>\n",
       "      <td>Ashley Ramsey</td>\n",
       "      <td>53</td>\n",
       "      <td>Male</td>\n",
       "      <td>AB+</td>\n",
       "      <td>Cancer</td>\n",
       "      <td>2019-05-30</td>\n",
       "      <td>James Smith</td>\n",
       "      <td>Barker-Mitchell</td>\n",
       "      <td>Blue Cross</td>\n",
       "      <td>-135.719073</td>\n",
       "      <td>235</td>\n",
       "      <td>Elective</td>\n",
       "      <td>2019-06-09</td>\n",
       "      <td>Penicillin</td>\n",
       "      <td>Inconclusive</td>\n",
       "    </tr>\n",
       "  </tbody>\n",
       "</table>\n",
       "</div>"
      ],
      "text/plain": [
       "                    Name  Age  Gender Blood Type Medical Condition  \\\n",
       "48994      Aaron Flowers   42    Male         A+            Asthma   \n",
       "8757          Alan Scott   48  Female         A-            Asthma   \n",
       "6798   Alexander Gardner   45    Male        AB-            Cancer   \n",
       "34304   Alexander Martin   46    Male         A+      Hypertension   \n",
       "5445      Alexandra Khan   32    Male        AB+         Arthritis   \n",
       "43101      Amanda Morgan   35  Female        AB+      Hypertension   \n",
       "6961        Angela Allen   83  Female         B-          Diabetes   \n",
       "17642     Anthony Miller   50  Female         O+         Arthritis   \n",
       "132      Ashley Erickson   32  Female        AB-            Cancer   \n",
       "15542      Ashley Ramsey   53    Male        AB+            Cancer   \n",
       "\n",
       "      Date of Admission            Doctor                     Hospital  \\\n",
       "48994        2020-06-03     Ronald Patton     Brown, Santos and Howard   \n",
       "8757         2019-10-23       Jacob Kirby                 Lopez-Hughes   \n",
       "6798         2023-03-23       Tracy Brown              Maldonado Group   \n",
       "34304        2021-09-24       Tracy Smith      Carter, and Nguyen Snow   \n",
       "5445         2022-07-14    Michael Vaughn       Bowen Lopez, and Terry   \n",
       "43101        2020-09-27  Gregory Figueroa           Petersen-Hernandez   \n",
       "6961         2019-08-21    Robert Kennedy    Brown and Randolph, Young   \n",
       "17642        2020-01-17      Jill Raymond  Pitts, Hernandez and Wilson   \n",
       "132          2019-11-05     Gerald Hooper    and Johnson Moore, Branch   \n",
       "15542        2019-05-30       James Smith              Barker-Mitchell   \n",
       "\n",
       "      Insurance Provider  Billing Amount  Room Number Admission Type  \\\n",
       "48994           Medicare     -378.696411          115       Elective   \n",
       "8757            Medicare     -857.125933          309         Urgent   \n",
       "6798               Cigna     -198.283806          329       Elective   \n",
       "34304   UnitedHealthcare      -38.966152          401      Emergency   \n",
       "5445               Aetna     -692.408820          372       Elective   \n",
       "43101           Medicare     -652.181369          144       Elective   \n",
       "6961               Cigna      -43.098522          189         Urgent   \n",
       "17642              Cigna     -892.270140          359      Emergency   \n",
       "132                Aetna     -502.507813          376         Urgent   \n",
       "15542         Blue Cross     -135.719073          235       Elective   \n",
       "\n",
       "      Discharge Date   Medication  Test Results  \n",
       "48994     2020-06-17  Paracetamol  Inconclusive  \n",
       "8757      2019-11-18  Paracetamol      Abnormal  \n",
       "6798      2023-04-09      Aspirin      Abnormal  \n",
       "34304     2021-09-26      Lipitor  Inconclusive  \n",
       "5445      2022-07-19      Lipitor      Abnormal  \n",
       "43101     2020-10-20   Penicillin      Abnormal  \n",
       "6961      2019-08-24   Penicillin      Abnormal  \n",
       "17642     2020-01-31      Aspirin      Abnormal  \n",
       "132       2019-11-23   Penicillin        Normal  \n",
       "15542     2019-06-09   Penicillin  Inconclusive  "
      ]
     },
     "execution_count": 12,
     "metadata": {},
     "output_type": "execute_result"
    }
   ],
   "source": [
    "df[df['Billing Amount'] < 0].sort_values(by='Name').head(10)"
   ]
  },
  {
   "cell_type": "code",
   "execution_count": 13,
   "id": "2f099ab5-2dee-4228-bf66-4a719ccf39be",
   "metadata": {},
   "outputs": [
    {
     "data": {
      "text/html": [
       "<div>\n",
       "<style scoped>\n",
       "    .dataframe tbody tr th:only-of-type {\n",
       "        vertical-align: middle;\n",
       "    }\n",
       "\n",
       "    .dataframe tbody tr th {\n",
       "        vertical-align: top;\n",
       "    }\n",
       "\n",
       "    .dataframe thead th {\n",
       "        text-align: right;\n",
       "    }\n",
       "</style>\n",
       "<table border=\"1\" class=\"dataframe\">\n",
       "  <thead>\n",
       "    <tr style=\"text-align: right;\">\n",
       "      <th></th>\n",
       "      <th>Name</th>\n",
       "      <th>Age</th>\n",
       "      <th>Gender</th>\n",
       "      <th>Blood Type</th>\n",
       "      <th>Medical Condition</th>\n",
       "      <th>Date of Admission</th>\n",
       "      <th>Doctor</th>\n",
       "      <th>Hospital</th>\n",
       "      <th>Insurance Provider</th>\n",
       "      <th>Billing Amount</th>\n",
       "      <th>Room Number</th>\n",
       "      <th>Admission Type</th>\n",
       "      <th>Discharge Date</th>\n",
       "      <th>Medication</th>\n",
       "      <th>Test Results</th>\n",
       "    </tr>\n",
       "  </thead>\n",
       "  <tbody>\n",
       "    <tr>\n",
       "      <th>15542</th>\n",
       "      <td>Ashley Ramsey</td>\n",
       "      <td>53</td>\n",
       "      <td>Male</td>\n",
       "      <td>AB+</td>\n",
       "      <td>Cancer</td>\n",
       "      <td>2019-05-30</td>\n",
       "      <td>James Smith</td>\n",
       "      <td>Barker-Mitchell</td>\n",
       "      <td>Blue Cross</td>\n",
       "      <td>-135.719073</td>\n",
       "      <td>235</td>\n",
       "      <td>Elective</td>\n",
       "      <td>2019-06-09</td>\n",
       "      <td>Penicillin</td>\n",
       "      <td>Inconclusive</td>\n",
       "    </tr>\n",
       "  </tbody>\n",
       "</table>\n",
       "</div>"
      ],
      "text/plain": [
       "                Name  Age Gender Blood Type Medical Condition  \\\n",
       "15542  Ashley Ramsey   53   Male        AB+            Cancer   \n",
       "\n",
       "      Date of Admission       Doctor         Hospital Insurance Provider  \\\n",
       "15542        2019-05-30  James Smith  Barker-Mitchell         Blue Cross   \n",
       "\n",
       "       Billing Amount  Room Number Admission Type Discharge Date  Medication  \\\n",
       "15542     -135.719073          235       Elective     2019-06-09  Penicillin   \n",
       "\n",
       "       Test Results  \n",
       "15542  Inconclusive  "
      ]
     },
     "execution_count": 13,
     "metadata": {},
     "output_type": "execute_result"
    }
   ],
   "source": [
    "df[df['Name'] == 'Ashley Ramsey']"
   ]
  },
  {
   "cell_type": "markdown",
   "id": "cefe161d-6e90-43e4-b900-fd430f76dd18",
   "metadata": {},
   "source": [
    "### According to the conducted analysis, we can state that the negative values ​​of payment amounts for treatment are an error in entering the database and such terms are subject to deletion before further analysis."
   ]
  },
  {
   "cell_type": "markdown",
   "id": "44888815-c6e6-421b-ba18-bce24425ff60",
   "metadata": {},
   "source": [
    "## Creating clean dataset"
   ]
  },
  {
   "cell_type": "code",
   "execution_count": 14,
   "id": "0cc6b8d2-fea8-48b4-946a-35000a87fffa",
   "metadata": {},
   "outputs": [],
   "source": [
    "clean_data = df[df['Billing Amount'] > 0].copy(deep=True)\n",
    "clean_data.drop_duplicates(inplace=True)"
   ]
  },
  {
   "cell_type": "code",
   "execution_count": 15,
   "id": "5863fe59-ff4c-47aa-af5e-ac85a518cca2",
   "metadata": {},
   "outputs": [
    {
     "data": {
      "text/html": [
       "<div>\n",
       "<style scoped>\n",
       "    .dataframe tbody tr th:only-of-type {\n",
       "        vertical-align: middle;\n",
       "    }\n",
       "\n",
       "    .dataframe tbody tr th {\n",
       "        vertical-align: top;\n",
       "    }\n",
       "\n",
       "    .dataframe thead th {\n",
       "        text-align: right;\n",
       "    }\n",
       "</style>\n",
       "<table border=\"1\" class=\"dataframe\">\n",
       "  <thead>\n",
       "    <tr style=\"text-align: right;\">\n",
       "      <th></th>\n",
       "      <th>Name</th>\n",
       "      <th>Age</th>\n",
       "      <th>Gender</th>\n",
       "      <th>Blood Type</th>\n",
       "      <th>Medical Condition</th>\n",
       "      <th>Date of Admission</th>\n",
       "      <th>Doctor</th>\n",
       "      <th>Hospital</th>\n",
       "      <th>Insurance Provider</th>\n",
       "      <th>Billing Amount</th>\n",
       "      <th>Room Number</th>\n",
       "      <th>Admission Type</th>\n",
       "      <th>Discharge Date</th>\n",
       "      <th>Medication</th>\n",
       "      <th>Test Results</th>\n",
       "    </tr>\n",
       "  </thead>\n",
       "  <tbody>\n",
       "    <tr>\n",
       "      <th>0</th>\n",
       "      <td>Bobby Jackson</td>\n",
       "      <td>30</td>\n",
       "      <td>Male</td>\n",
       "      <td>B-</td>\n",
       "      <td>Cancer</td>\n",
       "      <td>2024-01-31</td>\n",
       "      <td>Matthew Smith</td>\n",
       "      <td>Sons and Miller</td>\n",
       "      <td>Blue Cross</td>\n",
       "      <td>18856.281306</td>\n",
       "      <td>328</td>\n",
       "      <td>Urgent</td>\n",
       "      <td>2024-02-02</td>\n",
       "      <td>Paracetamol</td>\n",
       "      <td>Normal</td>\n",
       "    </tr>\n",
       "    <tr>\n",
       "      <th>1</th>\n",
       "      <td>Leslie Terry</td>\n",
       "      <td>62</td>\n",
       "      <td>Male</td>\n",
       "      <td>A+</td>\n",
       "      <td>Obesity</td>\n",
       "      <td>2019-08-20</td>\n",
       "      <td>Samantha Davies</td>\n",
       "      <td>Kim Inc</td>\n",
       "      <td>Medicare</td>\n",
       "      <td>33643.327287</td>\n",
       "      <td>265</td>\n",
       "      <td>Emergency</td>\n",
       "      <td>2019-08-26</td>\n",
       "      <td>Ibuprofen</td>\n",
       "      <td>Inconclusive</td>\n",
       "    </tr>\n",
       "    <tr>\n",
       "      <th>2</th>\n",
       "      <td>Danny Smith</td>\n",
       "      <td>76</td>\n",
       "      <td>Female</td>\n",
       "      <td>A-</td>\n",
       "      <td>Obesity</td>\n",
       "      <td>2022-09-22</td>\n",
       "      <td>Tiffany Mitchell</td>\n",
       "      <td>Cook PLC</td>\n",
       "      <td>Aetna</td>\n",
       "      <td>27955.096079</td>\n",
       "      <td>205</td>\n",
       "      <td>Emergency</td>\n",
       "      <td>2022-10-07</td>\n",
       "      <td>Aspirin</td>\n",
       "      <td>Normal</td>\n",
       "    </tr>\n",
       "  </tbody>\n",
       "</table>\n",
       "</div>"
      ],
      "text/plain": [
       "            Name  Age  Gender Blood Type Medical Condition Date of Admission  \\\n",
       "0  Bobby Jackson   30    Male         B-            Cancer        2024-01-31   \n",
       "1   Leslie Terry   62    Male         A+           Obesity        2019-08-20   \n",
       "2    Danny Smith   76  Female         A-           Obesity        2022-09-22   \n",
       "\n",
       "             Doctor         Hospital Insurance Provider  Billing Amount  \\\n",
       "0     Matthew Smith  Sons and Miller         Blue Cross    18856.281306   \n",
       "1   Samantha Davies          Kim Inc           Medicare    33643.327287   \n",
       "2  Tiffany Mitchell         Cook PLC              Aetna    27955.096079   \n",
       "\n",
       "   Room Number Admission Type Discharge Date   Medication  Test Results  \n",
       "0          328         Urgent     2024-02-02  Paracetamol        Normal  \n",
       "1          265      Emergency     2019-08-26    Ibuprofen  Inconclusive  \n",
       "2          205      Emergency     2022-10-07      Aspirin        Normal  "
      ]
     },
     "execution_count": 15,
     "metadata": {},
     "output_type": "execute_result"
    }
   ],
   "source": [
    "clean_data.head(3)"
   ]
  },
  {
   "cell_type": "markdown",
   "id": "ad2b5200-e9fa-4bef-ba0a-03ea96e94852",
   "metadata": {},
   "source": [
    "### Continue to explore numerical values"
   ]
  },
  {
   "cell_type": "code",
   "execution_count": 16,
   "id": "44a99de0-2fdd-4bd2-bf0b-0f12e60353b0",
   "metadata": {},
   "outputs": [
    {
     "data": {
      "text/html": [
       "<div>\n",
       "<style scoped>\n",
       "    .dataframe tbody tr th:only-of-type {\n",
       "        vertical-align: middle;\n",
       "    }\n",
       "\n",
       "    .dataframe tbody tr th {\n",
       "        vertical-align: top;\n",
       "    }\n",
       "\n",
       "    .dataframe thead th {\n",
       "        text-align: right;\n",
       "    }\n",
       "</style>\n",
       "<table border=\"1\" class=\"dataframe\">\n",
       "  <thead>\n",
       "    <tr style=\"text-align: right;\">\n",
       "      <th></th>\n",
       "      <th>Age</th>\n",
       "      <th>Billing Amount</th>\n",
       "    </tr>\n",
       "  </thead>\n",
       "  <tbody>\n",
       "    <tr>\n",
       "      <th>count</th>\n",
       "      <td>54860.000000</td>\n",
       "      <td>54860.000000</td>\n",
       "    </tr>\n",
       "    <tr>\n",
       "      <th>mean</th>\n",
       "      <td>51.533850</td>\n",
       "      <td>25594.633637</td>\n",
       "    </tr>\n",
       "    <tr>\n",
       "      <th>std</th>\n",
       "      <td>19.605295</td>\n",
       "      <td>14175.867041</td>\n",
       "    </tr>\n",
       "    <tr>\n",
       "      <th>min</th>\n",
       "      <td>13.000000</td>\n",
       "      <td>9.238787</td>\n",
       "    </tr>\n",
       "    <tr>\n",
       "      <th>25%</th>\n",
       "      <td>35.000000</td>\n",
       "      <td>13299.747940</td>\n",
       "    </tr>\n",
       "    <tr>\n",
       "      <th>50%</th>\n",
       "      <td>52.000000</td>\n",
       "      <td>25593.873000</td>\n",
       "    </tr>\n",
       "    <tr>\n",
       "      <th>75%</th>\n",
       "      <td>68.000000</td>\n",
       "      <td>37847.066671</td>\n",
       "    </tr>\n",
       "    <tr>\n",
       "      <th>max</th>\n",
       "      <td>89.000000</td>\n",
       "      <td>52764.276736</td>\n",
       "    </tr>\n",
       "  </tbody>\n",
       "</table>\n",
       "</div>"
      ],
      "text/plain": [
       "                Age  Billing Amount\n",
       "count  54860.000000    54860.000000\n",
       "mean      51.533850    25594.633637\n",
       "std       19.605295    14175.867041\n",
       "min       13.000000        9.238787\n",
       "25%       35.000000    13299.747940\n",
       "50%       52.000000    25593.873000\n",
       "75%       68.000000    37847.066671\n",
       "max       89.000000    52764.276736"
      ]
     },
     "execution_count": 16,
     "metadata": {},
     "output_type": "execute_result"
    }
   ],
   "source": [
    "clean_data[['Age', 'Billing Amount']].describe()"
   ]
  },
  {
   "cell_type": "markdown",
   "id": "e98d806f-36b9-4020-83b0-908c1bdcb514",
   "metadata": {},
   "source": [
    "### After data cleaning and validation, we have the following values:\n",
    "max Billing Amount is 52764.27 dollars, min Billing Amount is 9.23 dollars.  \n",
    "Average check: 25594.63 dollars.  \n",
    "\n",
    "The distribution of the age indicator varies from a minimum of 13 years to a maximum of 89 years. The average age of patients is 51.5 years.  "
   ]
  },
  {
   "cell_type": "markdown",
   "id": "039f5885-0515-460d-8dc4-8df7f749c8f1",
   "metadata": {},
   "source": [
    "## Explore categorical values"
   ]
  },
  {
   "cell_type": "code",
   "execution_count": 17,
   "id": "777db8bb-1e4c-4e99-9423-a3f5609e3af6",
   "metadata": {},
   "outputs": [
    {
     "data": {
      "text/plain": [
       "Gender\n",
       "Male      27449\n",
       "Female    27411\n",
       "Name: count, dtype: int64"
      ]
     },
     "execution_count": 17,
     "metadata": {},
     "output_type": "execute_result"
    }
   ],
   "source": [
    "clean_data[['Gender']].value_counts()"
   ]
  },
  {
   "cell_type": "code",
   "execution_count": 19,
   "id": "da94dc76-0e84-4f41-ad49-2b17bd522ced",
   "metadata": {},
   "outputs": [
    {
     "data": {
      "text/plain": [
       "Medical Condition\n",
       "Arthritis            9207\n",
       "Diabetes             9197\n",
       "Hypertension         9131\n",
       "Obesity              9127\n",
       "Cancer               9121\n",
       "Asthma               9077\n",
       "Name: count, dtype: int64"
      ]
     },
     "execution_count": 19,
     "metadata": {},
     "output_type": "execute_result"
    }
   ],
   "source": [
    "clean_data[['Medical Condition']].value_counts()"
   ]
  },
  {
   "attachments": {
    "b8edbbd9-aca1-4acc-a00a-e70a53d7fa24.png": {
     "image/png": "[encoded data removed]"
    }
   },
   "cell_type": "markdown",
   "id": "6f18d083-19b7-4502-95f8-119efc18d2bb",
   "metadata": {},
   "source": [
    "![Count of Admissions by Medical Condition.png](attachment:b8edbbd9-aca1-4acc-a00a-e70a53d7fa24.png)"
   ]
  },
  {
   "cell_type": "code",
   "execution_count": 18,
   "id": "bcce943c-760e-45fb-ad53-abed62e55a62",
   "metadata": {},
   "outputs": [
    {
     "data": {
      "text/plain": [
       "Test Results\n",
       "Abnormal        18399\n",
       "Normal          18302\n",
       "Inconclusive    18159\n",
       "Name: count, dtype: int64"
      ]
     },
     "execution_count": 18,
     "metadata": {},
     "output_type": "execute_result"
    }
   ],
   "source": [
    "clean_data[['Test Results']].value_counts()"
   ]
  },
  {
   "cell_type": "markdown",
   "id": "84248892-370e-47b7-b8e4-183b61a5a313",
   "metadata": {},
   "source": [
    "### According to the analysis, the distribution of categorical data is uniform, which means that we have approximately the same number of women and men among patients. As for statistics on diagnoses, it can be noted that the number of patients with different diagnoses also has a slight difference. At the same time, the smallest number of patients have a diagnosis \"Asthma\", and most often come with a problem of \"Arthritis\"\n"
   ]
  },
  {
   "cell_type": "markdown",
   "id": "6cd02f3c-7944-4558-8215-8abbfe9a9e87",
   "metadata": {},
   "source": [
    "## Let's check if there is any trend associated with years or months of visiting medical facilities."
   ]
  },
  {
   "cell_type": "markdown",
   "id": "c4cc26ca-87f5-410d-ab39-f7c775dd5d72",
   "metadata": {},
   "source": [
    "### To do this, we create new columns with the year and month of the visit, respectively"
   ]
  },
  {
   "cell_type": "code",
   "execution_count": 20,
   "id": "3cd3f860-512a-4f19-9b9a-36946b89f6e2",
   "metadata": {},
   "outputs": [],
   "source": [
    "clean_data['Year of Admission'] = clean_data['Date of Admission'].dt.year\n",
    "clean_data['Month of Admission'] = clean_data['Date of Admission'].dt.month"
   ]
  },
  {
   "cell_type": "code",
   "execution_count": 21,
   "id": "5671cff8-7101-4d9e-936a-f4d1b31d2a1b",
   "metadata": {},
   "outputs": [
    {
     "data": {
      "text/plain": [
       "Year of Admission\n",
       "2020    11157\n",
       "2023    10918\n",
       "2022    10891\n",
       "2021    10795\n",
       "2019     7280\n",
       "2024     3819\n",
       "Name: count, dtype: int64"
      ]
     },
     "execution_count": 21,
     "metadata": {},
     "output_type": "execute_result"
    }
   ],
   "source": [
    "clean_data['Year of Admission'].value_counts(sort='True')"
   ]
  },
  {
   "cell_type": "markdown",
   "id": "3cb3f063-6653-43ba-97ca-c29cd69f1569",
   "metadata": {},
   "source": [
    "Attendance by year, by gender"
   ]
  },
  {
   "attachments": {
    "8a6f2b34-4a9a-44a2-ac77-9f370910bab0.png": {
     "image/png": "[encoded data removed]"
    }
   },
   "cell_type": "markdown",
   "id": "8f60029f-1069-4254-b94a-64504b855f4e",
   "metadata": {},
   "source": [
    "![Count of Admissions by Year.png](attachment:8a6f2b34-4a9a-44a2-ac77-9f370910bab0.png)"
   ]
  },
  {
   "cell_type": "markdown",
   "id": "95366651-fc89-4b34-a5ff-ed5d39d70601",
   "metadata": {},
   "source": [
    "### It can be noted that the years 2019 and 2024 have the lowest number of visits. This is due to incomplete data for these years. If we focus on the years for which data for all months are available in the dataset, we can conclude that the year 2020 has the largest number of visits. This can be compared to the beginning of the COVID 19 pandemic and it can be assumed that this disease could affect existing diseases and lead to their aggravation.  \n",
    "### But, in general, we can note that the distribution of visits by year is uniform."
   ]
  },
  {
   "cell_type": "markdown",
   "id": "36acf996-a047-46f1-b676-01f09c4bd5ac",
   "metadata": {},
   "source": [
    "### It is also interesting to look at the relationship between the month and the number of visits"
   ]
  },
  {
   "cell_type": "code",
   "execution_count": 34,
   "id": "4f1e68e4-7fd6-42f2-8f36-12b63b97fd83",
   "metadata": {},
   "outputs": [
    {
     "data": {
      "text/plain": [
       "Gender  Month of Admission\n",
       "Female  1                     2364\n",
       "        2                     2050\n",
       "        3                     2307\n",
       "        4                     2258\n",
       "        5                     2257\n",
       "        6                     2333\n",
       "        7                     2382\n",
       "        8                     2376\n",
       "        9                     2287\n",
       "        10                    2317\n",
       "        11                    2186\n",
       "        12                    2294\n",
       "Male    1                     2282\n",
       "        2                     2149\n",
       "        3                     2303\n",
       "        4                     2208\n",
       "        5                     2290\n",
       "        6                     2307\n",
       "        7                     2380\n",
       "        8                     2401\n",
       "        9                     2216\n",
       "        10                    2288\n",
       "        11                    2315\n",
       "        12                    2310\n",
       "Name: Medical Condition, dtype: int64"
      ]
     },
     "execution_count": 34,
     "metadata": {},
     "output_type": "execute_result"
    }
   ],
   "source": [
    "clean_data.groupby(['Gender','Month of Admission'])['Medical Condition'].count()"
   ]
  },
  {
   "attachments": {
    "468d1e10-ae5c-4541-973e-238ed3c15e85.png": {
     "image/png": "[encoded data removed]"
    }
   },
   "cell_type": "markdown",
   "id": "fb5b1ef1-6c22-4a5d-af6f-85cc8e4ea61c",
   "metadata": {},
   "source": [
    "![Count of Admissions by Months.png](attachment:468d1e10-ae5c-4541-973e-238ed3c15e85.png)"
   ]
  },
  {
   "cell_type": "markdown",
   "id": "3d81cca0-3158-45b1-a1bd-de01a127efb9",
   "metadata": {},
   "source": [
    "### The decrease in the number of visits in January - February and November - December can also be explained by incomplete data for 2019 and 2024. As for other years, we can see some increase in the number of visits in July - August. It can be assumed that the increase in temperature in the summer months can also provoke an increase in the number of visits to hospitals."
   ]
  },
  {
   "cell_type": "markdown",
   "id": "0383424d-8f95-42b1-88c7-f06a9ec9ab29",
   "metadata": {},
   "source": [
    "## Let's check whether the size of the amount for treatment depends on the diagnosis"
   ]
  },
  {
   "cell_type": "code",
   "execution_count": 23,
   "id": "b80c88ba-2fb4-487e-9eee-b1505bdbbadf",
   "metadata": {},
   "outputs": [
    {
     "data": {
      "text/html": [
       "<div>\n",
       "<style scoped>\n",
       "    .dataframe tbody tr th:only-of-type {\n",
       "        vertical-align: middle;\n",
       "    }\n",
       "\n",
       "    .dataframe tbody tr th {\n",
       "        vertical-align: top;\n",
       "    }\n",
       "\n",
       "    .dataframe thead th {\n",
       "        text-align: right;\n",
       "    }\n",
       "</style>\n",
       "<table border=\"1\" class=\"dataframe\">\n",
       "  <thead>\n",
       "    <tr style=\"text-align: right;\">\n",
       "      <th></th>\n",
       "      <th>count</th>\n",
       "      <th>mean</th>\n",
       "      <th>min</th>\n",
       "      <th>max</th>\n",
       "    </tr>\n",
       "    <tr>\n",
       "      <th>Medical Condition</th>\n",
       "      <th></th>\n",
       "      <th></th>\n",
       "      <th></th>\n",
       "      <th></th>\n",
       "    </tr>\n",
       "  </thead>\n",
       "  <tbody>\n",
       "    <tr>\n",
       "      <th>Arthritis</th>\n",
       "      <td>9207</td>\n",
       "      <td>25542.898356</td>\n",
       "      <td>32.626843</td>\n",
       "      <td>52170.036854</td>\n",
       "    </tr>\n",
       "    <tr>\n",
       "      <th>Asthma</th>\n",
       "      <td>9077</td>\n",
       "      <td>25685.385020</td>\n",
       "      <td>42.514589</td>\n",
       "      <td>52181.837792</td>\n",
       "    </tr>\n",
       "    <tr>\n",
       "      <th>Cancer</th>\n",
       "      <td>9121</td>\n",
       "      <td>25205.924207</td>\n",
       "      <td>9.238787</td>\n",
       "      <td>52373.032374</td>\n",
       "    </tr>\n",
       "    <tr>\n",
       "      <th>Diabetes</th>\n",
       "      <td>9197</td>\n",
       "      <td>25714.326349</td>\n",
       "      <td>31.030955</td>\n",
       "      <td>52211.852966</td>\n",
       "    </tr>\n",
       "    <tr>\n",
       "      <th>Hypertension</th>\n",
       "      <td>9131</td>\n",
       "      <td>25559.844868</td>\n",
       "      <td>68.909747</td>\n",
       "      <td>52764.276736</td>\n",
       "    </tr>\n",
       "    <tr>\n",
       "      <th>Obesity</th>\n",
       "      <td>9127</td>\n",
       "      <td>25859.215373</td>\n",
       "      <td>53.931445</td>\n",
       "      <td>52024.726443</td>\n",
       "    </tr>\n",
       "  </tbody>\n",
       "</table>\n",
       "</div>"
      ],
      "text/plain": [
       "                   count          mean        min           max\n",
       "Medical Condition                                              \n",
       "Arthritis           9207  25542.898356  32.626843  52170.036854\n",
       "Asthma              9077  25685.385020  42.514589  52181.837792\n",
       "Cancer              9121  25205.924207   9.238787  52373.032374\n",
       "Diabetes            9197  25714.326349  31.030955  52211.852966\n",
       "Hypertension        9131  25559.844868  68.909747  52764.276736\n",
       "Obesity             9127  25859.215373  53.931445  52024.726443"
      ]
     },
     "execution_count": 23,
     "metadata": {},
     "output_type": "execute_result"
    }
   ],
   "source": [
    "clean_data.groupby('Medical Condition')['Billing Amount'].agg(['count', 'mean', 'min', 'max'])"
   ]
  },
  {
   "cell_type": "markdown",
   "id": "de2d9314-cee6-47ba-9c52-455cd324e6e1",
   "metadata": {},
   "source": [
    "### The average check does not depend on the diagnosis and varies slightly from 25205 dollars to 25859 dollars"
   ]
  },
  {
   "cell_type": "code",
   "execution_count": 24,
   "id": "5a0ed826-e89e-4284-b385-1ba8bde9f295",
   "metadata": {},
   "outputs": [
    {
     "data": {
      "text/plain": [
       "Blood Type\n",
       "A+     6879\n",
       "A-     6882\n",
       "AB+    6872\n",
       "AB-    6859\n",
       "B+     6876\n",
       "B-     6861\n",
       "O+     6843\n",
       "O-     6788\n",
       "Name: Medical Condition, dtype: int64"
      ]
     },
     "execution_count": 24,
     "metadata": {},
     "output_type": "execute_result"
    }
   ],
   "source": [
    "clean_data.groupby('Blood Type')['Medical Condition'].count()"
   ]
  },
  {
   "cell_type": "markdown",
   "id": "6324e62b-9c20-4ef2-a7d8-36cd22e7a8c8",
   "metadata": {},
   "source": [
    "### The distribution of patients by blood group is also uniform"
   ]
  },
  {
   "cell_type": "markdown",
   "id": "0ed9c331-99e3-4e11-bf75-08b91bed8f1b",
   "metadata": {},
   "source": [
    "## For a more convenient study of the age distribution of patients, let's create a new column with age intervals"
   ]
  },
  {
   "cell_type": "code",
   "execution_count": 26,
   "id": "71c5864c-485f-4696-855e-77775b1b1f0e",
   "metadata": {},
   "outputs": [],
   "source": [
    "min_age = clean_data['Age'].min()\n",
    "max_age = clean_data['Age'].max()"
   ]
  },
  {
   "cell_type": "code",
   "execution_count": 27,
   "id": "5c300b5d-6714-41b5-8fb5-bf3730b96f11",
   "metadata": {},
   "outputs": [],
   "source": [
    "bins = pd.interval_range(start=min_age, end=max_age, freq=(max_age - min_age) // 10, closed='left')"
   ]
  },
  {
   "cell_type": "code",
   "execution_count": 28,
   "id": "c67a2ac2-ef39-4566-9a3c-2e5a7cf3826a",
   "metadata": {},
   "outputs": [],
   "source": [
    "clean_data['Age bins'] = pd.cut(clean_data['Age'], bins=bins, include_lowest=True)"
   ]
  },
  {
   "cell_type": "code",
   "execution_count": 29,
   "id": "09408a5f-8892-451f-9f49-b36ad3c92c3c",
   "metadata": {},
   "outputs": [
    {
     "data": {
      "text/html": [
       "<div>\n",
       "<style scoped>\n",
       "    .dataframe tbody tr th:only-of-type {\n",
       "        vertical-align: middle;\n",
       "    }\n",
       "\n",
       "    .dataframe tbody tr th {\n",
       "        vertical-align: top;\n",
       "    }\n",
       "\n",
       "    .dataframe thead th {\n",
       "        text-align: right;\n",
       "    }\n",
       "</style>\n",
       "<table border=\"1\" class=\"dataframe\">\n",
       "  <thead>\n",
       "    <tr style=\"text-align: right;\">\n",
       "      <th></th>\n",
       "      <th>Name</th>\n",
       "      <th>Age</th>\n",
       "      <th>Gender</th>\n",
       "      <th>Blood Type</th>\n",
       "      <th>Medical Condition</th>\n",
       "      <th>Date of Admission</th>\n",
       "      <th>Doctor</th>\n",
       "      <th>Hospital</th>\n",
       "      <th>Insurance Provider</th>\n",
       "      <th>Billing Amount</th>\n",
       "      <th>Room Number</th>\n",
       "      <th>Admission Type</th>\n",
       "      <th>Discharge Date</th>\n",
       "      <th>Medication</th>\n",
       "      <th>Test Results</th>\n",
       "      <th>Year of Admission</th>\n",
       "      <th>Month of Admission</th>\n",
       "      <th>Age bins</th>\n",
       "    </tr>\n",
       "  </thead>\n",
       "  <tbody>\n",
       "    <tr>\n",
       "      <th>0</th>\n",
       "      <td>Bobby Jackson</td>\n",
       "      <td>30</td>\n",
       "      <td>Male</td>\n",
       "      <td>B-</td>\n",
       "      <td>Cancer</td>\n",
       "      <td>2024-01-31</td>\n",
       "      <td>Matthew Smith</td>\n",
       "      <td>Sons and Miller</td>\n",
       "      <td>Blue Cross</td>\n",
       "      <td>18856.281306</td>\n",
       "      <td>328</td>\n",
       "      <td>Urgent</td>\n",
       "      <td>2024-02-02</td>\n",
       "      <td>Paracetamol</td>\n",
       "      <td>Normal</td>\n",
       "      <td>2024</td>\n",
       "      <td>1</td>\n",
       "      <td>[27, 34)</td>\n",
       "    </tr>\n",
       "    <tr>\n",
       "      <th>1</th>\n",
       "      <td>Leslie Terry</td>\n",
       "      <td>62</td>\n",
       "      <td>Male</td>\n",
       "      <td>A+</td>\n",
       "      <td>Obesity</td>\n",
       "      <td>2019-08-20</td>\n",
       "      <td>Samantha Davies</td>\n",
       "      <td>Kim Inc</td>\n",
       "      <td>Medicare</td>\n",
       "      <td>33643.327287</td>\n",
       "      <td>265</td>\n",
       "      <td>Emergency</td>\n",
       "      <td>2019-08-26</td>\n",
       "      <td>Ibuprofen</td>\n",
       "      <td>Inconclusive</td>\n",
       "      <td>2019</td>\n",
       "      <td>8</td>\n",
       "      <td>[62, 69)</td>\n",
       "    </tr>\n",
       "    <tr>\n",
       "      <th>2</th>\n",
       "      <td>Danny Smith</td>\n",
       "      <td>76</td>\n",
       "      <td>Female</td>\n",
       "      <td>A-</td>\n",
       "      <td>Obesity</td>\n",
       "      <td>2022-09-22</td>\n",
       "      <td>Tiffany Mitchell</td>\n",
       "      <td>Cook PLC</td>\n",
       "      <td>Aetna</td>\n",
       "      <td>27955.096079</td>\n",
       "      <td>205</td>\n",
       "      <td>Emergency</td>\n",
       "      <td>2022-10-07</td>\n",
       "      <td>Aspirin</td>\n",
       "      <td>Normal</td>\n",
       "      <td>2022</td>\n",
       "      <td>9</td>\n",
       "      <td>[76, 83)</td>\n",
       "    </tr>\n",
       "  </tbody>\n",
       "</table>\n",
       "</div>"
      ],
      "text/plain": [
       "            Name  Age  Gender Blood Type Medical Condition Date of Admission  \\\n",
       "0  Bobby Jackson   30    Male         B-            Cancer        2024-01-31   \n",
       "1   Leslie Terry   62    Male         A+           Obesity        2019-08-20   \n",
       "2    Danny Smith   76  Female         A-           Obesity        2022-09-22   \n",
       "\n",
       "             Doctor         Hospital Insurance Provider  Billing Amount  \\\n",
       "0     Matthew Smith  Sons and Miller         Blue Cross    18856.281306   \n",
       "1   Samantha Davies          Kim Inc           Medicare    33643.327287   \n",
       "2  Tiffany Mitchell         Cook PLC              Aetna    27955.096079   \n",
       "\n",
       "   Room Number Admission Type Discharge Date   Medication  Test Results  \\\n",
       "0          328         Urgent     2024-02-02  Paracetamol        Normal   \n",
       "1          265      Emergency     2019-08-26    Ibuprofen  Inconclusive   \n",
       "2          205      Emergency     2022-10-07      Aspirin        Normal   \n",
       "\n",
       "   Year of Admission  Month of Admission  Age bins  \n",
       "0               2024                   1  [27, 34)  \n",
       "1               2019                   8  [62, 69)  \n",
       "2               2022                   9  [76, 83)  "
      ]
     },
     "execution_count": 29,
     "metadata": {},
     "output_type": "execute_result"
    }
   ],
   "source": [
    "clean_data.head(3)"
   ]
  },
  {
   "cell_type": "code",
   "execution_count": 30,
   "id": "bd63b4bc-81b3-41e6-a376-51842e6d0f09",
   "metadata": {},
   "outputs": [
    {
     "data": {
      "text/plain": [
       "Age bins\n",
       "[55, 62)    5720\n",
       "[62, 69)    5714\n",
       "[34, 41)    5706\n",
       "[48, 55)    5690\n",
       "[76, 83)    5668\n",
       "[41, 48)    5667\n",
       "[20, 27)    5607\n",
       "[69, 76)    5591\n",
       "[27, 34)    5435\n",
       "[13, 20)    1674\n",
       "Name: count, dtype: int64"
      ]
     },
     "execution_count": 30,
     "metadata": {},
     "output_type": "execute_result"
    }
   ],
   "source": [
    "clean_data['Age bins'].value_counts()"
   ]
  },
  {
   "attachments": {
    "79d26531-b1c2-459a-831f-459faf6be2ef.png": {
     "image/png": "[encoded data removed]"
    }
   },
   "cell_type": "markdown",
   "id": "e06c027d-de2a-4916-9cac-f8487f961d8c",
   "metadata": {},
   "source": [
    "![Count of Admissions by Age and Gender.png](attachment:79d26531-b1c2-459a-831f-459faf6be2ef.png)"
   ]
  },
  {
   "cell_type": "markdown",
   "id": "482793a6-562e-47d5-8602-a463816b5862",
   "metadata": {},
   "source": [
    "### Patients in the 13-19 age category visit the hospital least often, and patients in the 50-59 age category most often. Apart from the youngest group, representatives of other age groups apply to the hospital at almost the same level."
   ]
  },
  {
   "cell_type": "code",
   "execution_count": 31,
   "id": "ac90b074-3df1-4892-ae30-2c5b3f21fa46",
   "metadata": {},
   "outputs": [],
   "source": [
    "clean_data['Age bins'] = clean_data['Age bins'].astype(str)"
   ]
  },
  {
   "cell_type": "code",
   "execution_count": 32,
   "id": "19c5b229-646e-47d6-970e-e94842e6268a",
   "metadata": {},
   "outputs": [
    {
     "data": {
      "text/plain": [
       "Medical Condition\n",
       "Arthritis       295\n",
       "Cancer          282\n",
       "Obesity         276\n",
       "Asthma          276\n",
       "Hypertension    276\n",
       "Diabetes        269\n",
       "Name: count, dtype: int64"
      ]
     },
     "execution_count": 32,
     "metadata": {},
     "output_type": "execute_result"
    }
   ],
   "source": [
    "clean_data[clean_data['Age bins'] == '[13, 20)']['Medical Condition'].value_counts()"
   ]
  },
  {
   "cell_type": "markdown",
   "id": "29b8d2d5-667a-4c7b-8127-61724a51f9a2",
   "metadata": {},
   "source": [
    "### Most often, the younger age group of patients comes to the hospital for a reason Arthritis, and they are the least worried Diabetes"
   ]
  }
 ],
 "metadata": {
  "kernelspec": {
   "display_name": "Python 3 (ipykernel)",
   "language": "python",
   "name": "python3"
  },
  "language_info": {
   "codemirror_mode": {
    "name": "ipython",
    "version": 3
   },
   "file_extension": ".py",
   "mimetype": "text/x-python",
   "name": "python",
   "nbconvert_exporter": "python",
   "pygments_lexer": "ipython3",
   "version": "3.10.12"
  }
 },
 "nbformat": 4,
 "nbformat_minor": 5
}
